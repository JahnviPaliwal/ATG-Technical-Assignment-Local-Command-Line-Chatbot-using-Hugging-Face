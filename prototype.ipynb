
# Chatbot using Hugging Face Transformers
# ----------------------------------------
# This notebook implements a simple conversational chatbot using a small local model.
# It maintains a short-term memory of the conversation and supports a CLI-style flow.

!pip install transformers torch --quiet
