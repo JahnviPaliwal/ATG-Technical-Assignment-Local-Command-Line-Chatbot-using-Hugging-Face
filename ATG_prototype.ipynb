{
  "nbformat": 4,
  "nbformat_minor": 0,
  "metadata": {
    "colab": {
      "provenance": []
    },
    "kernelspec": {
      "name": "python3",
      "display_name": "Python 3"
    },
    "language_info": {
      "name": "python"
    }
  },
  "cells": [
    {
      "cell_type": "code",
      "execution_count": null,
      "metadata": {
        "id": "uLWeVKoxs4e_"
      },
      "outputs": [],
      "source": [
        "# Chatbot using Hugging Face Transformers\n",
        "# ----------------------------------------\n",
        "# This notebook implements a simple conversational chatbot using a small local model.\n",
        "# It maintains a short-term memory of the conversation and supports a CLI-style flow.\n",
        "\n",
        "!pip install transformers torch --quiet\n"
      ]
    },
    {
      "cell_type": "code",
      "source": [
        "# Import dependencies\n",
        "from transformers import pipeline\n"
      ],
      "metadata": {
        "id": "wEAs2qhmtBOh"
      },
      "execution_count": null,
      "outputs": []
    }
  ]
}