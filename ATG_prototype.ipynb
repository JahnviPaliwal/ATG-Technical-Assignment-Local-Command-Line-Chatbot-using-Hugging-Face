{
  "cells": [
    {
      "cell_type": "code",
      "execution_count": null,
      "metadata": {
        "id": "tjWzqmmx2zP0"
      },
      "outputs": [],
      "source": [
        "faq_knowledge_base = {\n",
        "    # Capitals of ~30 countries\n",
        "    \"what is the capital of afghanistan\": \"The capital of Afghanistan is Kabul.\",\n",
        "    \"what is the capital of australia\": \"The capital of Australia is Canberra.\",\n",
        "    \"what is the capital of brazil\": \"The capital of Brazil is Brasília.\",\n",
        "    \"what is the capital of canada\": \"The capital of Canada is Ottawa.\",\n",
        "    \"what is the capital of china\": \"The capital of China is Beijing.\",\n",
        "    \"what is the capital of france\": \"The capital of France is Paris.\",\n",
        "    \"what is the capital of germany\": \"The capital of Germany is Berlin.\",\n",
        "    \"what is the capital of india\": \"The capital of India is New Delhi.\",\n",
        "    \"what is the capital of indonesia\": \"The capital of Indonesia is Jakarta.\",\n",
        "    \"what is the capital of italy\": \"The capital of Italy is Rome.\",\n",
        "    \"what is the capital of japan\": \"The capital of Japan is Tokyo.\",\n",
        "    \"what is the capital of mexico\": \"The capital of Mexico is Mexico City.\",\n",
        "    \"what is the capital of nepal\": \"The capital of Nepal is Kathmandu.\",\n",
        "    \"what is the capital of netherlands\": \"The capital of the Netherlands is Amsterdam.\",\n",
        "    \"what is the capital of pakistan\": \"The capital of Pakistan is Islamabad.\",\n",
        "    \"what is the capital of russia\": \"The capital of Russia is Moscow.\",\n",
        "    \"what is the capital of saudi arabia\": \"The capital of Saudi Arabia is Riyadh.\",\n",
        "    \"what is the capital of south africa\": \"South Africa has three capitals: Pretoria, Bloemfontein, and Cape Town.\",\n",
        "    \"what is the capital of south korea\": \"The capital of South Korea is Seoul.\",\n",
        "    \"what is the capital of spain\": \"The capital of Spain is Madrid.\",\n",
        "    \"what is the capital of sri lanka\": \"The capital of Sri Lanka is Sri Jayawardenepura Kotte.\",\n",
        "    \"what is the capital of thailand\": \"The capital of Thailand is Bangkok.\",\n",
        "    \"what is the capital of turkey\": \"The capital of Turkey is Ankara.\",\n",
        "    \"what is the capital of ukraine\": \"The capital of Ukraine is Kyiv.\",\n",
        "    \"what is the capital of united arab emirates\": \"The capital of UAE is Abu Dhabi.\",\n",
        "    \"what is the capital of united kingdom\": \"The capital of the United Kingdom is London.\",\n",
        "    \"what is the capital of united states\": \"The capital of the United States is Washington, D.C.\",\n",
        "    \"what is the capital of vietnam\": \"The capital of Vietnam is Hanoi.\",\n",
        "    \"what is the capital of zimbabwe\": \"The capital of Zimbabwe is Harare.\",\n",
        "\n",
        "    # India and Neighbouring Countries - Directions and capitals\n",
        "    \"which countries are in the north of india\": \"To the north of India are China, Nepal and Bhutan.\",\n",
        "    \"which countries are in the northwest of india\": \"To the northwest of India are Pakistan and Afghanistan.\",\n",
        "    \"which countries are in the east of india\": \"To the east of India are Bangladesh and Myanmar.\",\n",
        "    \"which countries are in the south east of india\": \"The southeastern neighbours of India include Myanmar and Indonesia.\",\n",
        "    \"which countries are in the west of india\": \"To the west of India are Pakistan and Afghanistan.\",\n",
        "    \"which countries share land borders with india\": \"India shares land borders with Afghanistan, Bangladesh, Bhutan, China, Myanmar, Nepal, Pakistan, and Sri Lanka.\",\n",
        "    \"which countries share maritime borders with india\": \"India shares maritime borders with Sri Lanka and the Maldives.\",\n",
        "    \"what is the capital of nepal\": \"The capital of Nepal is Kathmandu.\",\n",
        "    \"what is the capital of bhutan\": \"The capital of Bhutan is Thimphu.\",\n",
        "    \"what is the capital of bangladesh\": \"The capital of Bangladesh is Dhaka.\",\n",
        "    \"what is the capital of myanmar\": \"The capital of Myanmar is Naypyidaw.\",\n",
        "    \"what is the capital of pakistan\": \"The capital of Pakistan is Islamabad.\",\n",
        "    \"what is the capital of sri lanka\": \"The capital of Sri Lanka is Sri Jayawardenepura Kotte.\",\n",
        "\n",
        "    # Additional info\n",
        "    \"what ocean is south of india\": \"The Indian Ocean lies to the south of India.\",\n",
        "    \"which seas surround india\": \"The Arabian Sea is to the west and the Bay of Bengal is to the east of India.\",\n",
        "    \"how many neighbours does india have\": \"India has 7 land neighbours and 2 maritime neighbours making 9 in total.\",\n",
        "}\n"
      ]
    },
    {
      "cell_type": "code",
      "execution_count": 1,
      "metadata": {
        "id": "uLWeVKoxs4e_"
      },
      "outputs": [],
      "source": [
        "# Chatbot using Hugging Face Transformers\n",
        "# ----------------------------------------\n",
        "# This notebook implements a simple conversational chatbot using a small local model.\n",
        "# It maintains a short-term memory of the conversation and supports a CLI-style flow.\n",
        "\n",
        "!pip install transformers torch --quiet\n"
      ]
    },
    {
      "cell_type": "code",
      "execution_count": 2,
      "metadata": {
        "id": "wEAs2qhmtBOh"
      },
      "outputs": [],
      "source": [
        "# Import dependencies\n",
        "from transformers import pipeline\n"
      ]
    },
    {
      "cell_type": "code",
      "execution_count": 10,
      "metadata": {
        "colab": {
          "base_uri": "https://localhost:8080/"
        },
        "id": "UFvxQE7ItpKK",
        "outputId": "7b97ce2c-8e79-4ee9-b213-1bd1f7474e96"
      },
      "outputs": [
        {
          "name": "stdout",
          "output_type": "stream",
          "text": [
            "Loading model: distilgpt2 ...\n"
          ]
        },
        {
          "name": "stderr",
          "output_type": "stream",
          "text": [
            "Device set to use cpu\n"
          ]
        }
      ],
      "source": [
        "# Load model (small model for local use)\n",
        "def load_model(model_name=\"distilgpt2\"):\n",
        "    print(f\"Loading model: {model_name} ...\")\n",
        "    generator = pipeline(\n",
        "        \"text-generation\",\n",
        "        model=model_name,\n",
        "        pad_token_id=50256  # EOS token for GPT2 padding\n",
        "    )\n",
        "    return generator\n",
        "\n",
        "generator = load_model()\n"
      ]
    },
    {
      "cell_type": "code",
      "execution_count": 13,
      "metadata": {
        "id": "Bj2g_v5KttQl"
      },
      "outputs": [],
      "source": [
        "class ChatMemory:\n",
        "    def __init__(self, max_turns=3):\n",
        "        self.max_turns = max_turns\n",
        "        self.history = []\n",
        "\n",
        "    def update(self, user_input, bot_response):\n",
        "        self.history.append(f\"User: {user_input}\\nBot: {bot_response}\")\n",
        "        if len(self.history) > self.max_turns:\n",
        "            self.history = self.history[-self.max_turns:]\n",
        "\n",
        "    def get_context(self):\n",
        "        return \"\\n\".join(self.history)\n",
        "\n",
        "memory = ChatMemory()"
      ]
    },
    {
      "cell_type": "code",
      "execution_count": 12,
      "metadata": {
        "id": "zAGgvgTntypa"
      },
      "outputs": [],
      "source": [
        "# Initialize memory\n",
        "# memory = ChatMemory(max_turns=5)\n"
      ]
    },
    {
      "cell_type": "code",
      "execution_count": 14,
      "metadata": {
        "id": "4qZD3848t0WT"
      },
      "outputs": [],
      "source": [
        "def chatbot_loop():\n",
        "    print(\"Chatbot ready! Type '/exit' to quit.\\n\")\n",
        "    while True:\n",
        "        user_input = input(\"User: \").strip()\n",
        "        if user_input.lower() == '/exit':\n",
        "            print(\"Exiting chatbot. Goodbye!\")\n",
        "            break\n",
        "\n",
        "        # Prepare prompt from recent conversation history plus new user input\n",
        "        prompt = memory.get_context() + f\"\\nUser: {user_input}\\nBot:\"\n",
        "\n",
        "        # Generate response with truncation enabled and max_new_tokens only\n",
        "        response = generator(\n",
        "            prompt,\n",
        "            max_new_tokens=150,\n",
        "            truncation=True,\n",
        "            do_sample=True,\n",
        "            temperature=0.7,\n",
        "            pad_token_id=50256\n",
        "        )\n",
        "\n",
        "        # Extract bot reply text cleanly\n",
        "        bot_response = response[0]['generated_text'].split(\"Bot:\")[-1].split(\"User:\")[0].strip()\n",
        "\n",
        "        print(f\"Bot: {bot_response}\")\n",
        "\n",
        "        # Update conversation memory\n",
        "        memory.update(user_input, bot_response)"
      ]
    },
    {
      "cell_type": "code",
      "execution_count": 15,
      "metadata": {
        "colab": {
          "base_uri": "https://localhost:8080/"
        },
        "id": "usomb7w_t3d5",
        "outputId": "0e06d136-734a-4a01-86c7-1412d418861b"
      },
      "outputs": [
        {
          "name": "stdout",
          "output_type": "stream",
          "text": [
            "Chatbot ready! Type '/exit' to quit.\n",
            "\n",
            "User: Hello\n",
            "Bot: Hello\n",
            "User: How are you?\n",
            "Bot: Hello\n",
            "User: What is the capital of France?\n",
            "Bot: I will be using this system for a new\n",
            "User: What is the capital of France?\n",
            "Bot: I will be using this system for a new\n",
            "User: And what about Italy?\n",
            "Bot: I will be using this system for a new\n",
            "User: /exit\n",
            "Exiting chatbot. Goodbye!\n"
          ]
        }
      ],
      "source": [
        "# Run chatbot (works like a CLI inside Jupyter)\n",
        "chatbot_loop()\n"
      ]
    },
    {
      "cell_type": "code",
      "execution_count": 17,
      "metadata": {
        "colab": {
          "base_uri": "https://localhost:8080/",
          "height": 658,
          "referenced_widgets": [
            "d59863139d7c45228af1770b8b0cc500",
            "f755eaf11644474db2d176fa3a165be2",
            "3d5b99092b0a42129d6af7b52f223eaf",
            "22f0c391f16646ed92ae9f252537e8f1",
            "594765144ade4055af1f5d6e78a4b0bf",
            "707e479da08f46a4a6793b669fd588d7",
            "d7e5a84ee2f045d9b8c17b2e64660f1e",
            "d778e5b19aa540909c1b68c1b62ee831",
            "919919385b5b47f8bb146ca18f2a907d",
            "a120d035f91a4bfe839af85c38df0099",
            "52872b53c0c749adb61833ffe23da727",
            "07be3e982b5849f98688dd651d0ecfe5",
            "96afde8e091d4fa1b7637c56966cca17",
            "3d347cfecc904f79b45885aa7cff6d32",
            "73f75f4bdba84b80851cf1a1fbc8d155",
            "3c3e4222474d48f08becfdd458d76537",
            "8526abc1eb3c42f88e076016930176a9",
            "c227a75850aa458c9a212b767e3f5367",
            "e96d0e5b72fa4c07901397314a6b3fe2",
            "160e546af2da42a0bbbcbb8240eb2514",
            "50cbbfeb930b49dd93bf4acaa9d19bdf",
            "b6b77d5a4c464d1dba4439d541720a24",
            "669c911cd1004a20a132ff3734af0588",
            "1222ff7b60de43dc89944c781dea2ee3",
            "8fb1a4210c4b40cbabc8004eb27c7fe7",
            "c4a06c97ce9f4e78b1b31359c162206a",
            "7ee621678fa3413094dc781bb669743a",
            "9eedf2181e6147f09ab9210f02888f07",
            "73776d65a94640918b7fdfe947d96999",
            "79937c0b192a4f0e989b14883e164809",
            "33a3ad49964b4e7eb10450b8118532b0",
            "717466361adb4b9ea385c3ccac0a0147",
            "354592c9f3f64d0a806f23d7c2269a29",
            "03a01c89867f409eba547891178981b2",
            "c35d96dda30f428299c2f2932b157c31",
            "248f79bed77840c28725bbdd99387f4e",
            "7132f2a2b4354974b53eaa4d5d431c76",
            "627c8b96cbdf4899ae44f21c5044b934",
            "b1da988e28084a4d8762272a8e0d68b2",
            "fb8b1a33393e400e9dff76aca1d35e7e",
            "96eaabc8ec0c41b985ebdfd89d5bd1ff",
            "1b7efae814a04ee0b86e5296a611b525",
            "3cb3a9128b644ffaa20fcfc69e24a050",
            "a16d000a7d2e407c891acd96be50b109",
            "fafcf130085a4e2b929c58e2106ef2ee",
            "70ffefd4e50a4d16849a1fc708af5da7",
            "e9b55f4c27194522be323a052ce9e1ab",
            "68c07b93b59a470ea9a3834043975305",
            "99c82f989afb48d6974ea0731b12b37f",
            "d1894c54080a42b5868d68638f06b54c",
            "b032162eeb1e430a9d6459801057872e",
            "276974e8f89c4d699cc48b1424f862b7",
            "3ce29e2df5db4bfab341b15002047039",
            "dfc2a7a096684797859fd78220ee08f4",
            "9afbbd4a025a4d6cb0ab955a269c079b",
            "c6ad17614d354333b2d0ca7ec3a1d193",
            "01f34004c27b4c53965964499f26e2c0",
            "6a85c63e43e34ee388de2e83d152028f",
            "59bbe082127a4161b75fea4bf6ea91a1",
            "aaf526d49eef467a952cac08e65d104e",
            "304f4a8dbb7f4cb083c1046906da4ac5",
            "a5a0a2b06032462ca678511afafcdfda",
            "07d7292171334f98bf46a91ad85dd072",
            "76915836a5c04d6aa4a9a5e2b1fd0be5",
            "7801ee976de44e069baf9d86f7713fd1",
            "45d287a6bc4c4809901bc91a9fce8dc2",
            "477bbcceb31741089c17e660e47645d4",
            "fa85338be4d04165b31e99399d2dee56",
            "cdbf4b0d300c4e998d258432ea4f1684",
            "3d77cde049144c37a97df114201961c6",
            "2175717c215a4fee825e0af8d4db07f8",
            "3d19b3f3e124473d9976a6bdf92ba3d7",
            "51ee880236374850a0aa1c161f529933",
            "830a7b3a3d4146609fdc49a1754b5770",
            "9805a8fb294d4aa9901e4220a23a48f0",
            "023137bb9a214a5bbd39a10998f48737",
            "cc2eb83da5ee42e6bf6e4de778371705"
          ]
        },
        "id": "eUUqAYpyxTR2",
        "outputId": "3308cc7f-84e6-47b0-edf9-baee6e4cba36"
      },
      "outputs": [
        {
          "data": {
            "application/vnd.jupyter.widget-view+json": {
              "model_id": "d59863139d7c45228af1770b8b0cc500",
              "version_major": 2,
              "version_minor": 0
            },
            "text/plain": [
              "tokenizer_config.json:   0%|          | 0.00/614 [00:00<?, ?B/s]"
            ]
          },
          "metadata": {},
          "output_type": "display_data"
        },
        {
          "data": {
            "application/vnd.jupyter.widget-view+json": {
              "model_id": "07be3e982b5849f98688dd651d0ecfe5",
              "version_major": 2,
              "version_minor": 0
            },
            "text/plain": [
              "vocab.json: 0.00B [00:00, ?B/s]"
            ]
          },
          "metadata": {},
          "output_type": "display_data"
        },
        {
          "data": {
            "application/vnd.jupyter.widget-view+json": {
              "model_id": "669c911cd1004a20a132ff3734af0588",
              "version_major": 2,
              "version_minor": 0
            },
            "text/plain": [
              "merges.txt: 0.00B [00:00, ?B/s]"
            ]
          },
          "metadata": {},
          "output_type": "display_data"
        },
        {
          "data": {
            "application/vnd.jupyter.widget-view+json": {
              "model_id": "03a01c89867f409eba547891178981b2",
              "version_major": 2,
              "version_minor": 0
            },
            "text/plain": [
              "config.json:   0%|          | 0.00/642 [00:00<?, ?B/s]"
            ]
          },
          "metadata": {},
          "output_type": "display_data"
        },
        {
          "data": {
            "application/vnd.jupyter.widget-view+json": {
              "model_id": "fafcf130085a4e2b929c58e2106ef2ee",
              "version_major": 2,
              "version_minor": 0
            },
            "text/plain": [
              "pytorch_model.bin:   0%|          | 0.00/863M [00:00<?, ?B/s]"
            ]
          },
          "metadata": {},
          "output_type": "display_data"
        },
        {
          "data": {
            "application/vnd.jupyter.widget-view+json": {
              "model_id": "c6ad17614d354333b2d0ca7ec3a1d193",
              "version_major": 2,
              "version_minor": 0
            },
            "text/plain": [
              "model.safetensors:   0%|          | 0.00/863M [00:00<?, ?B/s]"
            ]
          },
          "metadata": {},
          "output_type": "display_data"
        },
        {
          "data": {
            "application/vnd.jupyter.widget-view+json": {
              "model_id": "477bbcceb31741089c17e660e47645d4",
              "version_major": 2,
              "version_minor": 0
            },
            "text/plain": [
              "generation_config.json:   0%|          | 0.00/124 [00:00<?, ?B/s]"
            ]
          },
          "metadata": {},
          "output_type": "display_data"
        },
        {
          "name": "stdout",
          "output_type": "stream",
          "text": [
            "Chatbot ready! Type '/exit' to quit.\n",
            "\n",
            "User: Hello\n",
            "Bot: Hi!\n",
            "User: What is the capital of France?\n",
            "Bot: I don't know\n",
            "User: And what about Italy?\n",
            "Bot: It has been long since the last time I heard of it\n",
            "User: so you don't know about italy?\n",
            "Bot: I do, but I just don't know the capital of italy\n",
            "User: ok get it\n",
            "Bot: I already know the capital of italy\n",
            "User: say what is it?\n",
            "Bot: I don't know, probably\n",
            "User: but you said that you already know\n",
            "Bot: I don't know\n",
            "User: ok ok thank you\n",
            "Bot: You're on the list\n",
            "User: he he he\n",
            "Bot: oh\n",
            "User: ok bye\n",
            "Bot: I'll be on the list\n",
            "User: /exit\n",
            "Exiting chatbot. Goodbye!\n"
          ]
        }
      ],
      "source": [
        "from transformers import AutoModelForCausalLM, AutoTokenizer\n",
        "import torch\n",
        "\n",
        "model_name = \"microsoft/DialoGPT-medium\"\n",
        "tokenizer = AutoTokenizer.from_pretrained(model_name)\n",
        "model = AutoModelForCausalLM.from_pretrained(model_name)\n",
        "\n",
        "# Initialize chat history\n",
        "chat_history_ids = None\n",
        "\n",
        "print(\"Chatbot ready! Type '/exit' to quit.\\n\")\n",
        "\n",
        "while True:\n",
        "    user_input = input(\"User: \").strip()\n",
        "    if user_input.lower() == \"/exit\":\n",
        "        print(\"Exiting chatbot. Goodbye!\")\n",
        "        break\n",
        "\n",
        "    # Encode user input with EOS token\n",
        "    new_user_input_ids = tokenizer.encode(user_input + tokenizer.eos_token, return_tensors='pt')\n",
        "\n",
        "    # Concatenate with previous history\n",
        "    bot_input_ids = torch.cat([chat_history_ids, new_user_input_ids], dim=-1) if chat_history_ids is not None else new_user_input_ids\n",
        "\n",
        "    # Generate reply with attention_mask passed explicitly\n",
        "    response = model.generate(\n",
        "        bot_input_ids,\n",
        "        max_length=150,\n",
        "        pad_token_id=tokenizer.eos_token_id,\n",
        "        do_sample=True,\n",
        "        temperature=0.7,\n",
        "        attention_mask=torch.ones_like(bot_input_ids)\n",
        "    )\n",
        "\n",
        "    # Decode response, remove prompt part\n",
        "    bot_reply = tokenizer.decode(response[:, bot_input_ids.shape[-1]:][0], skip_special_tokens=True)\n",
        "\n",
        "    print(\"Bot:\", bot_reply)\n",
        "\n",
        "    # Update chat history\n",
        "    chat_history_ids = response\n"
      ]
    },
    {
      "cell_type": "code",
      "execution_count": 18,
      "metadata": {
        "colab": {
          "base_uri": "https://localhost:8080/"
        },
        "id": "O5wuBCKB5pUM",
        "outputId": "9fd6c6a9-539c-47e0-f22f-74dbd091dc8a"
      },
      "outputs": [
        {
          "name": "stdout",
          "output_type": "stream",
          "text": [
            "Chatbot ready! Type '/exit' to quit.\n",
            "\n",
            "User: Hello\n",
            "Bot: Good morning\n",
            "User: Oh Hello, How are you?\n",
            "Bot: I'm doing ok, what about you?\n",
            "User: I'm good too\n",
            "Bot: Good to hear!\n",
            "User: What is the capital of Russia?\n",
            "Bot: The capital of Russia is Moscow.\n",
            "User: Great!, Thank you\n",
            "Bot: You're welcome\n",
            "User: /exit\n",
            "Exiting chatbot. Goodbye!\n"
          ]
        }
      ],
      "source": [
        "from transformers import AutoModelForCausalLM, AutoTokenizer\n",
        "import torch\n",
        "\n",
        "# --- FAQ Knowledge Base ---\n",
        "faq_knowledge_base = {\n",
        "    # Capitals of ~30 countries\n",
        "    \"what is the capital of afghanistan\": \"The capital of Afghanistan is Kabul.\",\n",
        "    \"what is the capital of australia\": \"The capital of Australia is Canberra.\",\n",
        "    \"what is the capital of brazil\": \"The capital of Brazil is Brasília.\",\n",
        "    \"what is the capital of canada\": \"The capital of Canada is Ottawa.\",\n",
        "    \"what is the capital of china\": \"The capital of China is Beijing.\",\n",
        "    \"what is the capital of france\": \"The capital of France is Paris.\",\n",
        "    \"what is the capital of germany\": \"The capital of Germany is Berlin.\",\n",
        "    \"what is the capital of india\": \"The capital of India is New Delhi.\",\n",
        "    \"what is the capital of indonesia\": \"The capital of Indonesia is Jakarta.\",\n",
        "    \"what is the capital of italy\": \"The capital of Italy is Rome.\",\n",
        "    \"what is the capital of japan\": \"The capital of Japan is Tokyo.\",\n",
        "    \"what is the capital of mexico\": \"The capital of Mexico is Mexico City.\",\n",
        "    \"what is the capital of nepal\": \"The capital of Nepal is Kathmandu.\",\n",
        "    \"what is the capital of netherlands\": \"The capital of the Netherlands is Amsterdam.\",\n",
        "    \"what is the capital of pakistan\": \"The capital of Pakistan is Islamabad.\",\n",
        "    \"what is the capital of russia\": \"The capital of Russia is Moscow.\",\n",
        "    \"what is the capital of saudi arabia\": \"The capital of Saudi Arabia is Riyadh.\",\n",
        "    \"what is the capital of south africa\": \"South Africa has three capitals: Pretoria, Bloemfontein, and Cape Town.\",\n",
        "    \"what is the capital of south korea\": \"The capital of South Korea is Seoul.\",\n",
        "    \"what is the capital of spain\": \"The capital of Spain is Madrid.\",\n",
        "    \"what is the capital of sri lanka\": \"The capital of Sri Lanka is Sri Jayawardenepura Kotte.\",\n",
        "    \"what is the capital of thailand\": \"The capital of Thailand is Bangkok.\",\n",
        "    \"what is the capital of turkey\": \"The capital of Turkey is Ankara.\",\n",
        "    \"what is the capital of ukraine\": \"The capital of Ukraine is Kyiv.\",\n",
        "    \"what is the capital of united arab emirates\": \"The capital of UAE is Abu Dhabi.\",\n",
        "    \"what is the capital of united kingdom\": \"The capital of the United Kingdom is London.\",\n",
        "    \"what is the capital of united states\": \"The capital of the United States is Washington, D.C.\",\n",
        "    \"what is the capital of vietnam\": \"The capital of Vietnam is Hanoi.\",\n",
        "    \"what is the capital of zimbabwe\": \"The capital of Zimbabwe is Harare.\",\n",
        "\n",
        "    # India and Neighbouring Countries - Directions and capitals\n",
        "    \"which countries are in the north of india\": \"To the north of India are China, Nepal and Bhutan.\",\n",
        "    \"which countries are in the northwest of india\": \"To the northwest of India are Pakistan and Afghanistan.\",\n",
        "    \"which countries are in the east of india\": \"To the east of India are Bangladesh and Myanmar.\",\n",
        "    \"which countries are in the south east of india\": \"The southeastern neighbours of India include Myanmar and Indonesia.\",\n",
        "    \"which countries are in the west of india\": \"To the west of India are Pakistan and Afghanistan.\",\n",
        "    \"which countries share land borders with india\": \"India shares land borders with Afghanistan, Bangladesh, Bhutan, China, Myanmar, Nepal, Pakistan, and Sri Lanka.\",\n",
        "    \"which countries share maritime borders with india\": \"India shares maritime borders with Sri Lanka and the Maldives.\",\n",
        "    \"what is the capital of nepal\": \"The capital of Nepal is Kathmandu.\",\n",
        "    \"what is the capital of bhutan\": \"The capital of Bhutan is Thimphu.\",\n",
        "    \"what is the capital of bangladesh\": \"The capital of Bangladesh is Dhaka.\",\n",
        "    \"what is the capital of myanmar\": \"The capital of Myanmar is Naypyidaw.\",\n",
        "    \"what is the capital of pakistan\": \"The capital of Pakistan is Islamabad.\",\n",
        "    \"what is the capital of sri lanka\": \"The capital of Sri Lanka is Sri Jayawardenepura Kotte.\",\n",
        "\n",
        "    # Additional info\n",
        "    \"what ocean is south of india\": \"The Indian Ocean lies to the south of India.\",\n",
        "    \"which seas surround india\": \"The Arabian Sea is to the west and the Bay of Bengal is to the east of India.\",\n",
        "    \"how many neighbours does india have\": \"India has 7 land neighbours and 2 maritime neighbours making 9 in total.\",\n",
        "}\n",
        "\n",
        "# --- Preprocessing function for FAQ query ---\n",
        "def query_faq_kb(user_input):\n",
        "    # Normalize input: lowercase, strip trailing punctuations and spaces\n",
        "    normalized = user_input.lower().strip().rstrip('?.!')\n",
        "    return faq_knowledge_base.get(normalized, None)\n",
        "\n",
        "\n",
        "# --- Load model and tokenizer ---\n",
        "model_name = \"microsoft/DialoGPT-medium\"\n",
        "tokenizer = AutoTokenizer.from_pretrained(model_name)\n",
        "model = AutoModelForCausalLM.from_pretrained(model_name)\n",
        "\n",
        "chat_history_ids = None\n",
        "\n",
        "print(\"Chatbot ready! Type '/exit' to quit.\\n\")\n",
        "\n",
        "while True:\n",
        "    user_input = input(\"User: \").strip()\n",
        "    if user_input.lower() == \"/exit\":\n",
        "        print(\"Exiting chatbot. Goodbye!\")\n",
        "        break\n",
        "\n",
        "    # Check FAQ knowledge base first\n",
        "    answer = query_faq_kb(user_input)\n",
        "    if answer:\n",
        "        print(f\"Bot: {answer}\")\n",
        "        # Update chat history with FAQ Q/A to maintain context consistency\n",
        "        faq_turn = tokenizer.encode(user_input + tokenizer.eos_token, return_tensors='pt')\n",
        "        ans_turn = tokenizer.encode(answer + tokenizer.eos_token, return_tensors='pt')\n",
        "        if chat_history_ids is not None:\n",
        "            chat_history_ids = torch.cat([chat_history_ids, faq_turn, ans_turn], dim=-1)\n",
        "        else:\n",
        "            chat_history_ids = torch.cat([faq_turn, ans_turn], dim=-1)\n",
        "        continue\n",
        "\n",
        "    # Encode user input with EOS token\n",
        "    new_user_input_ids = tokenizer.encode(user_input + tokenizer.eos_token, return_tensors='pt')\n",
        "\n",
        "    # Append tokens to chat history\n",
        "    bot_input_ids = torch.cat([chat_history_ids, new_user_input_ids], dim=-1) if chat_history_ids is not None else new_user_input_ids\n",
        "\n",
        "    # Generate response with attention mask explicitly\n",
        "    chat_history_ids = model.generate(\n",
        "        bot_input_ids,\n",
        "        max_length=1000,\n",
        "        pad_token_id=tokenizer.eos_token_id,\n",
        "        do_sample=True,\n",
        "        temperature=0.7,\n",
        "        top_k=50,\n",
        "        top_p=0.9,\n",
        "        attention_mask=torch.ones(bot_input_ids.shape, dtype=torch.long)\n",
        "    )\n",
        "\n",
        "    # Decode bot reply (tokens generated after user input)\n",
        "    bot_reply = tokenizer.decode(chat_history_ids[:, bot_input_ids.shape[-1]:][0], skip_special_tokens=True)\n",
        "    print(f\"Bot: {bot_reply}\")\n"
      ]
    }
  ],
  "metadata": {
    "colab": {
      "provenance": []
    },
    "kernelspec": {
      "display_name": "Python 3",
      "name": "python3"
    },
    "language_info": {
      "name": "python"
    }
  },
  "nbformat": 4,
  "nbformat_minor": 0
}
